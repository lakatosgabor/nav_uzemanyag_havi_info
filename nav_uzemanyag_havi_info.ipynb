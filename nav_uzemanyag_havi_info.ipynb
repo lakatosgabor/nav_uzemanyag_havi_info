{
  "nbformat": 4,
  "nbformat_minor": 0,
  "metadata": {
    "colab": {
      "provenance": [],
      "authorship_tag": "ABX9TyPYPjlNo1J8bKMyOqBeSNID",
      "include_colab_link": true
    },
    "kernelspec": {
      "name": "python3",
      "display_name": "Python 3"
    },
    "language_info": {
      "name": "python"
    }
  },
  "cells": [
    {
      "cell_type": "markdown",
      "metadata": {
        "id": "view-in-github",
        "colab_type": "text"
      },
      "source": [
        "<a href=\"https://colab.research.google.com/github/lakatosgabor/nav_uzemanyag_havi_info/blob/main/nav_uzemanyag_havi_info.ipynb\" target=\"_parent\"><img src=\"https://colab.research.google.com/assets/colab-badge.svg\" alt=\"Open In Colab\"/></a>"
      ]
    },
    {
      "cell_type": "code",
      "execution_count": 47,
      "metadata": {
        "colab": {
          "base_uri": "https://localhost:8080/"
        },
        "id": "v8_78_Eq_tIb",
        "outputId": "0fd60d7a-652e-4893-dd60-7024bbe80bff"
      },
      "outputs": [
        {
          "output_type": "stream",
          "name": "stdout",
          "text": [
            "Aktuális hónap üzemanyag árai: \n",
            "Hónap:  november\n",
            "Gázolaj:  682\n",
            "LPG gáz:  313\n",
            "Petrol:  650\n"
          ]
        }
      ],
      "source": [
        "import pandas as pd\n",
        "import requests\n",
        "from bs4 import BeautifulSoup\n",
        "import datetime\n",
        "\n",
        "url = \"https://nav.gov.hu/print/ugyfeliranytu/uzemanyag/2023-ban-alkalmazhato-uzemanyagarak\"\n",
        "\n",
        "def get_data(url):\n",
        "  response = requests.get(url)\n",
        "  soup = BeautifulSoup(response.content, \"html.parser\")\n",
        "  table = soup.find(\"table\")\n",
        "\n",
        "  table_rows = table.find_all(\"tr\")\n",
        "  data = []\n",
        "  for row in table_rows:\n",
        "    cols = row.find_all([\"th\", \"td\"])\n",
        "    cols = [col.text.strip() for col in cols]\n",
        "    data.append(cols)\n",
        "\n",
        "  df = pd.DataFrame(data[1:], columns=data[0])\n",
        "\n",
        "  aktual_month = df['2023.év'][0]\n",
        "  disel = df['Gázolaj (Ft/l)'][0]\n",
        "  lpg_gas = df['LPG autógáz (Ft/l)'][0]\n",
        "  petrol = df['Ólmozatlan motorbenzin ESZ-95\\xa0 (Ft/l)'][0]\n",
        "\n",
        "  return aktual_month, disel, lpg_gas, petrol\n",
        "\n",
        "\n",
        "aktual_month, disel, lpg_gas, petrol = get_data(url)\n",
        "\n",
        "print(\"Aktuális hónap üzemanyag árai: \")\n",
        "print(\"Hónap: \", aktual_month)\n",
        "print(\"Gázolaj: \", disel)\n",
        "print(\"LPG gáz: \", lpg_gas)\n",
        "print(\"Petrol: \", petrol)"
      ]
    }
  ]
}