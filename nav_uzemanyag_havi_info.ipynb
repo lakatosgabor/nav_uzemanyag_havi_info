{
  "nbformat": 4,
  "nbformat_minor": 0,
  "metadata": {
    "colab": {
      "provenance": [],
      "authorship_tag": "ABX9TyMFeCYcJiFDkuxjdMDBpPRw",
      "include_colab_link": true
    },
    "kernelspec": {
      "name": "python3",
      "display_name": "Python 3"
    },
    "language_info": {
      "name": "python"
    }
  },
  "cells": [
    {
      "cell_type": "markdown",
      "metadata": {
        "id": "view-in-github",
        "colab_type": "text"
      },
      "source": [
        "<a href=\"https://colab.research.google.com/github/lakatosgabor/nav_uzemanyag_havi_info/blob/main/nav_uzemanyag_havi_info.ipynb\" target=\"_parent\"><img src=\"https://colab.research.google.com/assets/colab-badge.svg\" alt=\"Open In Colab\"/></a>"
      ]
    },
    {
      "cell_type": "code",
      "execution_count": 126,
      "metadata": {
        "colab": {
          "base_uri": "https://localhost:8080/"
        },
        "id": "v8_78_Eq_tIb",
        "outputId": "7a18ec0d-cf13-454a-9a2b-c56338cc5f9e"
      },
      "outputs": [
        {
          "output_type": "stream",
          "name": "stdout",
          "text": [
            "Hónap:  október\n",
            "Gázolaj:  661\n",
            "LPG gáz:  318\n",
            "Petrol:  647\n",
            "Lekérdezés ideje:  2023-10-27 10:53:41.397974\n"
          ]
        }
      ],
      "source": [
        "import pandas as pd\n",
        "import requests\n",
        "from bs4 import BeautifulSoup\n",
        "import datetime\n",
        "\n",
        "'''\n",
        "DATAFRAME ADATSTRUKTÚRA\n",
        "       2023.év Ólmozatlan motorbenzin ESZ-95  (Ft/l) Gázolaj (Ft/l)  Keverék (Ft/l) LPG autógáz (Ft/l) CNGautógáz(Ft/kg)\n",
        "0       január                                   655            713   530                407              1991\n",
        "\n",
        "AZ OSZLOP INDEXEK HIVATKOZÁSHOZ\n",
        "['2023.év', 'Ólmozatlan motorbenzin ESZ-95\\xa0 (Ft/l)', 'Gázolaj (Ft/l)', 'Keverék (Ft/l)', 'LPG autógáz (Ft/l)', 'CNGautógáz(Ft/kg)']\n",
        "'''\n",
        "\n",
        "url = \"https://nav.gov.hu/print/ugyfeliranytu/uzemanyag/\" + str(datetime.datetime.now().year) + \"-ban-alkalmazhato-uzemanyagarak\"\n",
        "\n",
        "#number_of_month = 10 # 1: január, 2: február, 3: március ... min 1, max 12\n",
        "\n",
        "number_of_month = datetime.datetime.now().month #aktuális hónap sorszáma az aktuális hónap adatainak lekérdezéséhez\n",
        "\n",
        "def get_data(url, number_of_month):\n",
        "    try:\n",
        "        if type(number_of_month) != int:\n",
        "            raise ValueError(\"Hibás hónap formátum. 1 és 12 közötti hónap számot adhat meg!\")\n",
        "            return 0\n",
        "\n",
        "        if (number_of_month > 12 or number_of_month < 1):\n",
        "            raise ValueError(\"A megadott hónap sorszám nem létezik. Adjon meg 1 és 12 közötti sorszámot!\")\n",
        "            return 0\n",
        "\n",
        "        month_index = number_of_month - 1\n",
        "        response = requests.get(url)\n",
        "        response.raise_for_status()  # Dobjon kivételt, ha hiba történt a lekérdezésnél\n",
        "        soup = BeautifulSoup(response.content, \"html.parser\")\n",
        "        table = soup.find(\"table\")\n",
        "\n",
        "        if table is None:\n",
        "            raise ValueError(\"Nem található táblázat az oldalon.\")\n",
        "            return 0\n",
        "\n",
        "        table_rows = table.find_all(\"tr\")\n",
        "        data = []\n",
        "        for row in table_rows:\n",
        "            cols = row.find_all([\"th\", \"td\"])\n",
        "            cols = [col.text.strip() for col in cols]\n",
        "            data.append(cols)\n",
        "\n",
        "        if len(data) < 2:\n",
        "            raise ValueError(\"A táblázatban nincsenek adatok.\")\n",
        "            return 0\n",
        "\n",
        "        df = pd.DataFrame(data[1:], columns=data[0])[::-1].reset_index(drop=True)\n",
        "\n",
        "        if str(datetime.datetime.now().year) + '.év' not in df.columns or 'Gázolaj (Ft/l)' not in df.columns or 'LPG autógáz (Ft/l)' not in df.columns or 'Ólmozatlan motorbenzin ESZ-95\\xa0 (Ft/l)' not in df.columns:\n",
        "            raise ValueError(\"Hiányzó oszlopok a táblázatban.\")\n",
        "            return 0\n",
        "\n",
        "        if len(df[data[0][0]]) < number_of_month:\n",
        "            raise ValueError(\"A \" + str(number_of_month) + \". hónap üzemanyag árai még nem elérhetőek. Jelenleg \" + str(len(df[data[0][0]])) + \". hónapig állnak rendelkezésre adatok.\")\n",
        "            return 0\n",
        "\n",
        "        selected_month = df[data[0][0]][month_index]\n",
        "        disel = df[data[0][2]][month_index]\n",
        "        lpg_gas = df[data[0][4]][month_index]\n",
        "        petrol = df[data[0][1]][month_index]\n",
        "\n",
        "        return selected_month, disel, lpg_gas, petrol\n",
        "\n",
        "    except requests.exceptions.HTTPError as errh:\n",
        "        print(\"HTTP hiba történt:\", errh)\n",
        "        return 0\n",
        "    except requests.exceptions.ConnectionError as errc:\n",
        "        print(\"Kapcsolódási hiba történt:\", errc)\n",
        "        return 0\n",
        "    except requests.exceptions.Timeout as errt:\n",
        "        print(\"Időtúllépés történt:\", errt)\n",
        "        return 0\n",
        "    except requests.exceptions.RequestException as err:\n",
        "        print(\"Kérési hiba történt:\", err)\n",
        "        return 0\n",
        "    except ValueError as ve:\n",
        "        print(ve)\n",
        "        return 0\n",
        "\n",
        "\n",
        "def main():\n",
        "  if (get_data(url, number_of_month) == 0):\n",
        "    return\n",
        "\n",
        "  selected_month, disel, lpg_gas, petrol = get_data(url, number_of_month)\n",
        "\n",
        "  if selected_month is not None:\n",
        "      query_time = datetime.datetime.now()\n",
        "      print(\"Hónap: \", selected_month)\n",
        "      print(\"Gázolaj: \", disel)\n",
        "      print(\"LPG gáz: \", lpg_gas)\n",
        "      print(\"Petrol: \", petrol)\n",
        "      print(\"Lekérdezés ideje: \", query_time)\n",
        "  else:\n",
        "      print(\"Nem sikerült lekérdezni az adatokat.\")\n",
        "\n",
        "\n",
        "main()\n"
      ]
    }
  ]
}