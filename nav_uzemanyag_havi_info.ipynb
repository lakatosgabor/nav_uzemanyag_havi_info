{
  "nbformat": 4,
  "nbformat_minor": 0,
  "metadata": {
    "colab": {
      "provenance": [],
      "authorship_tag": "ABX9TyNEudqxeFaPDcBTsmd5MSQl",
      "include_colab_link": true
    },
    "kernelspec": {
      "name": "python3",
      "display_name": "Python 3"
    },
    "language_info": {
      "name": "python"
    }
  },
  "cells": [
    {
      "cell_type": "markdown",
      "metadata": {
        "id": "view-in-github",
        "colab_type": "text"
      },
      "source": [
        "<a href=\"https://colab.research.google.com/github/lakatosgabor/nav_uzemanyag_havi_info/blob/main/nav_uzemanyag_havi_info.ipynb\" target=\"_parent\"><img src=\"https://colab.research.google.com/assets/colab-badge.svg\" alt=\"Open In Colab\"/></a>"
      ]
    },
    {
      "cell_type": "code",
      "execution_count": 68,
      "metadata": {
        "colab": {
          "base_uri": "https://localhost:8080/"
        },
        "id": "v8_78_Eq_tIb",
        "outputId": "3bc41a4a-0008-4da7-8c39-8558fa21bb05"
      },
      "outputs": [
        {
          "output_type": "stream",
          "name": "stdout",
          "text": [
            "Aktuális hónap üzemanyag árai: \n",
            "Hónap:  november\n",
            "Gázolaj:  682\n",
            "LPG gáz:  313\n",
            "Petrol:  650\n",
            "Lekérdezés ideje:  2023-10-27 09:16:58.208801\n"
          ]
        }
      ],
      "source": [
        "import pandas as pd\n",
        "import requests\n",
        "from bs4 import BeautifulSoup\n",
        "import datetime\n",
        "\n",
        "url = \"https://nav.gov.hu/print/ugyfeliranytu/uzemanyag/\" + str(datetime.datetime.now().year) + \"-ban-alkalmazhato-uzemanyagarak\"\n",
        "\n",
        "def get_data(url):\n",
        "    try:\n",
        "        response = requests.get(url)\n",
        "        response.raise_for_status()  # Dobjon kivételt, ha hiba történt a lekérdezésnél\n",
        "        soup = BeautifulSoup(response.content, \"html.parser\")\n",
        "        table = soup.find(\"table\")\n",
        "\n",
        "        if table is None:\n",
        "            raise ValueError(\"Nem található táblázat az oldalon.\")\n",
        "            return 0\n",
        "\n",
        "        table_rows = table.find_all(\"tr\")\n",
        "        data = []\n",
        "        for row in table_rows:\n",
        "            cols = row.find_all([\"th\", \"td\"])\n",
        "            cols = [col.text.strip() for col in cols]\n",
        "            data.append(cols)\n",
        "\n",
        "        if len(data) < 2:\n",
        "            raise ValueError(\"A táblázatban nincsenek adatok.\")\n",
        "            return 0\n",
        "\n",
        "        df = pd.DataFrame(data[1:], columns=data[0])\n",
        "\n",
        "        if str(datetime.datetime.now().year) + '.év' not in df.columns or 'Gázolaj (Ft/l)' not in df.columns or 'LPG autógáz (Ft/l)' not in df.columns or 'Ólmozatlan motorbenzin ESZ-95\\xa0 (Ft/l)' not in df.columns:\n",
        "            raise ValueError(\"Hiányzó oszlopok a táblázatban.\")\n",
        "            return 0\n",
        "\n",
        "        aktual_month = df[data[0][0]][0]\n",
        "        disel = df[data[0][2]][0]\n",
        "        lpg_gas = df[data[0][4]][0]\n",
        "        petrol = df[data[0][1]][0]\n",
        "\n",
        "        return aktual_month, disel, lpg_gas, petrol\n",
        "\n",
        "    except requests.exceptions.HTTPError as errh:\n",
        "        print(\"HTTP hiba történt:\", errh)\n",
        "        return 0\n",
        "    except requests.exceptions.ConnectionError as errc:\n",
        "        print(\"Kapcsolódási hiba történt:\", errc)\n",
        "        return 0\n",
        "    except requests.exceptions.Timeout as errt:\n",
        "        print(\"Időtúllépés történt:\", errt)\n",
        "        return 0\n",
        "    except requests.exceptions.RequestException as err:\n",
        "        print(\"Kérési hiba történt:\", err)\n",
        "        return 0\n",
        "    except ValueError as ve:\n",
        "        print(ve)\n",
        "        return 0\n",
        "\n",
        "\n",
        "def main():\n",
        "  if (get_data(url) == 0):\n",
        "    return\n",
        "\n",
        "  aktual_month, disel, lpg_gas, petrol = get_data(url)\n",
        "\n",
        "  if aktual_month is not None:\n",
        "      query_time = datetime.datetime.now()\n",
        "      print(\"Aktuális hónap üzemanyag árai: \")\n",
        "      print(\"Hónap: \", aktual_month)\n",
        "      print(\"Gázolaj: \", disel)\n",
        "      print(\"LPG gáz: \", lpg_gas)\n",
        "      print(\"Petrol: \", petrol)\n",
        "      print(\"Lekérdezés ideje: \", query_time)\n",
        "  else:\n",
        "      print(\"Nem sikerült lekérdezni az adatokat.\")\n",
        "\n",
        "\n",
        "main()\n"
      ]
    }
  ]
}